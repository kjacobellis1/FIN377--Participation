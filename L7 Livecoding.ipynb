{
 "cells": [
  {
   "cell_type": "markdown",
   "metadata": {},
   "source": [
    "# Practicing on Diamonds"
   ]
  },
  {
   "cell_type": "code",
   "execution_count": 13,
   "metadata": {},
   "outputs": [
    {
     "data": {
      "text/plain": [
       "<matplotlib.axes._subplots.AxesSubplot at 0x1a14d79b90>"
      ]
     },
     "execution_count": 13,
     "metadata": {},
     "output_type": "execute_result"
    },
    {
     "data": {
      "image/png": "[encoded data removed]",
      "text/plain": [
       "<Figure size 432x288 with 1 Axes>"
      ]
     },
     "metadata": {
      "needs_background": "light"
     },
     "output_type": "display_data"
    }
   ],
   "source": [
    "import pandas as pd\n",
    "import seaborn as sns\n",
    "import numpy as np\n",
    "\n",
    "diamonds = sns.load_dataset('diamonds')\n",
    "diamonds # notice shape, unit, key, etc...\n",
    "\n",
    "# my turn: lets do the usual immediate explorations including the categorical vars\n",
    "diamonds.describe()\n",
    "# my turn: explore carats - how many are 0.99 vs 1 carat? why?\n",
    "sns.distplot(diamonds['carat'], kde=False,\n",
    "             bins=np.arange(0.2,2.05,.05).tolist())   #distplot = distribution plot\n",
    "# explore dist of x, y, z: what did you learn? which is width, length, depth?\n",
    "\n",
    "# your turn: explore price - is there anything unusual? (HINT: try many bin widths)\n",
    "\n",
    "# my turn: how is carat related to price?\n",
    "\n",
    "# your turn: how is price related to cut?\n",
    "\n",
    "# how should we deal with outliers? delete obs? replace with nan? winsorize? show each..."
   ]
  },
  {
   "cell_type": "code",
   "execution_count": null,
   "metadata": {},
   "outputs": [],
   "source": []
  }
 ],
 "metadata": {
  "kernelspec": {
   "display_name": "Python 3",
   "language": "python",
   "name": "python3"
  },
  "language_info": {
   "codemirror_mode": {
    "name": "ipython",
    "version": 3
   },
   "file_extension": ".py",
   "mimetype": "text/x-python",
   "name": "python",
   "nbconvert_exporter": "python",
   "pygments_lexer": "ipython3",
   "version": "3.7.4"
  }
 },
 "nbformat": 4,
 "nbformat_minor": 2
}

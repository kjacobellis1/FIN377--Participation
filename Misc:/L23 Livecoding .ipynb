{
 "cells": [
  {
   "cell_type": "markdown",
   "metadata": {},
   "source": [
    "- Pipeline = sequence of steps to fit in the data automatically without having to manually write in the data"
   ]
  },
  {
   "cell_type": "markdown",
   "metadata": {},
   "source": [
    "# These 6 lines Wrap in all the essentials on how to make better predictions...\n",
    "\n",
    "# STEP 1: build a pipeline with data cleaning and an estimator\n",
    "########################################################################################\n",
    "\n",
    "# after this, I quickly run pipe_modelName.fit() and pipe_modelName.predict()  \n",
    "# to make sure this works before going forward, but then delete those commands\n",
    "\n",
    "pipe_modelName = make_pipeline(<a sequence of data steps, and the last step is a model>)  \n",
    "\n",
    "########################################################################################\n",
    "# STEP 2: optimize the pipeline\n",
    "########################################################################################\n",
    "\n",
    "# this is the GridSearchCV approach - manually set up the param&value combos to try\n",
    "# doc + examples: https://scikit-learn.org/stable/modules/generated/sklearn.model_selection.GridSearchCV.html#sklearn.model_selection.GridSearchCV \n",
    "\n",
    "param_grid = {'stepname__paramname':[val1,val2,...,valN]} # params to try\n",
    "cv = ...                                                  # what folds to use\n",
    "grid = GridSearchCV(pipe_modelName, param_grid,cv,...)    # set up optimizer\n",
    "grid.fit(X,y)                              # fit grid like a \"normal model obj\"\n",
    "optimal_vrs_of_model1 = grid.best_params_  # grid now has new features. save best model"
   ]
  },
  {
   "cell_type": "code",
   "execution_count": 4,
   "metadata": {},
   "outputs": [],
   "source": [
    "import pandas as pd\n",
    "from sklearn.pipeline import Pipeline, make_pipeline\n",
    "from sklearn.impute import SimpleImputer\n",
    "from sklearn.preprocessing import StandardScaler, OneHotEncoder\n",
    "from sklearn.compose import ColumnTransformer\n",
    "from sklearn.linear_model import LinearRegression\n",
    "from sklearn.model_selection import train_test_split, GridSearchCV, cross_validate\n",
    "from sklearn import metrics\n",
    "\n",
    "# DL data\n",
    "url = 'https://github.com/LeDataSciFi/lectures-spr2020/blob/master/assignment_data/Fannie_Mae_Plus_Data.gzip?raw=true'\n",
    "fannie_mae = pd.read_csv(url,compression='gzip') \n",
    "\n",
    "# separate out y var\n",
    "y = fannie_mae['Original_Interest_Rate']\n",
    "fannie_mae.drop('Original_Interest_Rate',axis=1,inplace=True)"
   ]
  },
  {
   "cell_type": "markdown",
   "metadata": {},
   "source": [
    "## Set up how each data type will get dealt with\n",
    "Let's start with the continuous numeric variables. Here, I just try a few variables."
   ]
  },
  {
   "cell_type": "code",
   "execution_count": 5,
   "metadata": {},
   "outputs": [],
   "source": [
    "num_features = ['Original_UPB', 'Original_Loan_Term','Original_Debt_to_Income_Ratio']\n",
    "num_transformer = Pipeline(steps=[\n",
    "    ('imputer', SimpleImputer(strategy='median')),\n",
    "    ('scaler', StandardScaler())])"
   ]
  },
  {
   "cell_type": "markdown",
   "metadata": {},
   "source": [
    "Now the categorical features "
   ]
  },
  {
   "cell_type": "code",
   "execution_count": 6,
   "metadata": {},
   "outputs": [],
   "source": [
    "cat_features = ['Property_type', 'Loan_purpose'] #for hw, just finish putting in the correct stuff for cat_features and num_features\n",
    "cat_transformer = Pipeline(steps=[\n",
    "    ('imputer', SimpleImputer(strategy='constant', fill_value='missing')),\n",
    "    ('onehot', OneHotEncoder(handle_unknown='ignore',sparse=False))]) #turning variables into a list of dummys"
   ]
  },
  {
   "cell_type": "markdown",
   "metadata": {},
   "source": [
    "### Combine the column-specific transformations with ColumnTransformer¶\n"
   ]
  },
  {
   "cell_type": "code",
   "execution_count": 7,
   "metadata": {},
   "outputs": [],
   "source": [
    "preprocessor = ColumnTransformer(\n",
    "    transformers=[\n",
    "        ('num', num_transformer, num_features), #giving it the transformers that you want it to run\n",
    "        ('cat', cat_transformer, cat_features)])"
   ]
  },
  {
   "cell_type": "code",
   "execution_count": 17,
   "metadata": {},
   "outputs": [
    {
     "data": {
      "text/html": [
       "<div>\n",
       "<style scoped>\n",
       "    .dataframe tbody tr th:only-of-type {\n",
       "        vertical-align: middle;\n",
       "    }\n",
       "\n",
       "    .dataframe tbody tr th {\n",
       "        vertical-align: top;\n",
       "    }\n",
       "\n",
       "    .dataframe thead th {\n",
       "        text-align: right;\n",
       "    }\n",
       "</style>\n",
       "<table border=\"1\" class=\"dataframe\">\n",
       "  <thead>\n",
       "    <tr style=\"text-align: right;\">\n",
       "      <th></th>\n",
       "      <th>Original_UPB</th>\n",
       "      <th>Original_Loan_Term</th>\n",
       "      <th>Original_Debt_to_Income_Ratio</th>\n",
       "      <th>Property_type_CO</th>\n",
       "      <th>Property_type_CP</th>\n",
       "      <th>Property_type_MH</th>\n",
       "      <th>Property_type_PU</th>\n",
       "      <th>Property_type_SF</th>\n",
       "      <th>Loan_purpose_C</th>\n",
       "      <th>Loan_purpose_P</th>\n",
       "      <th>Loan_purpose_R</th>\n",
       "      <th>Loan_purpose_U</th>\n",
       "    </tr>\n",
       "  </thead>\n",
       "  <tbody>\n",
       "    <tr>\n",
       "      <th>0</th>\n",
       "      <td>-1.443151</td>\n",
       "      <td>0.642953</td>\n",
       "      <td>-0.990988</td>\n",
       "      <td>0.0</td>\n",
       "      <td>0.0</td>\n",
       "      <td>0.0</td>\n",
       "      <td>0.0</td>\n",
       "      <td>1.0</td>\n",
       "      <td>0.0</td>\n",
       "      <td>1.0</td>\n",
       "      <td>0.0</td>\n",
       "      <td>0.0</td>\n",
       "    </tr>\n",
       "    <tr>\n",
       "      <th>1</th>\n",
       "      <td>0.101791</td>\n",
       "      <td>0.642953</td>\n",
       "      <td>-0.639975</td>\n",
       "      <td>0.0</td>\n",
       "      <td>0.0</td>\n",
       "      <td>0.0</td>\n",
       "      <td>0.0</td>\n",
       "      <td>1.0</td>\n",
       "      <td>0.0</td>\n",
       "      <td>1.0</td>\n",
       "      <td>0.0</td>\n",
       "      <td>0.0</td>\n",
       "    </tr>\n",
       "    <tr>\n",
       "      <th>2</th>\n",
       "      <td>-0.615504</td>\n",
       "      <td>-1.543334</td>\n",
       "      <td>-0.201208</td>\n",
       "      <td>0.0</td>\n",
       "      <td>0.0</td>\n",
       "      <td>0.0</td>\n",
       "      <td>0.0</td>\n",
       "      <td>1.0</td>\n",
       "      <td>1.0</td>\n",
       "      <td>0.0</td>\n",
       "      <td>0.0</td>\n",
       "      <td>0.0</td>\n",
       "    </tr>\n",
       "    <tr>\n",
       "      <th>3</th>\n",
       "      <td>-1.121288</td>\n",
       "      <td>-1.543334</td>\n",
       "      <td>-1.429754</td>\n",
       "      <td>0.0</td>\n",
       "      <td>0.0</td>\n",
       "      <td>0.0</td>\n",
       "      <td>0.0</td>\n",
       "      <td>1.0</td>\n",
       "      <td>1.0</td>\n",
       "      <td>0.0</td>\n",
       "      <td>0.0</td>\n",
       "      <td>0.0</td>\n",
       "    </tr>\n",
       "    <tr>\n",
       "      <th>4</th>\n",
       "      <td>-1.277621</td>\n",
       "      <td>-1.543334</td>\n",
       "      <td>-2.044026</td>\n",
       "      <td>0.0</td>\n",
       "      <td>0.0</td>\n",
       "      <td>0.0</td>\n",
       "      <td>0.0</td>\n",
       "      <td>1.0</td>\n",
       "      <td>1.0</td>\n",
       "      <td>0.0</td>\n",
       "      <td>0.0</td>\n",
       "      <td>0.0</td>\n",
       "    </tr>\n",
       "  </tbody>\n",
       "</table>\n",
       "</div>"
      ],
      "text/plain": [
       "   Original_UPB  Original_Loan_Term  Original_Debt_to_Income_Ratio  \\\n",
       "0     -1.443151            0.642953                      -0.990988   \n",
       "1      0.101791            0.642953                      -0.639975   \n",
       "2     -0.615504           -1.543334                      -0.201208   \n",
       "3     -1.121288           -1.543334                      -1.429754   \n",
       "4     -1.277621           -1.543334                      -2.044026   \n",
       "\n",
       "   Property_type_CO  Property_type_CP  Property_type_MH  Property_type_PU  \\\n",
       "0               0.0               0.0               0.0               0.0   \n",
       "1               0.0               0.0               0.0               0.0   \n",
       "2               0.0               0.0               0.0               0.0   \n",
       "3               0.0               0.0               0.0               0.0   \n",
       "4               0.0               0.0               0.0               0.0   \n",
       "\n",
       "   Property_type_SF  Loan_purpose_C  Loan_purpose_P  Loan_purpose_R  \\\n",
       "0               1.0             0.0             1.0             0.0   \n",
       "1               1.0             0.0             1.0             0.0   \n",
       "2               1.0             1.0             0.0             0.0   \n",
       "3               1.0             1.0             0.0             0.0   \n",
       "4               1.0             1.0             0.0             0.0   \n",
       "\n",
       "   Loan_purpose_U  \n",
       "0             0.0  \n",
       "1             0.0  \n",
       "2             0.0  \n",
       "3             0.0  \n",
       "4             0.0  "
      ]
     },
     "execution_count": 17,
     "metadata": {},
     "output_type": "execute_result"
    }
   ],
   "source": [
    "# copy and paste this, don't go over - they can figure out later\n",
    "# get numerical col names (line 1) + post-transform categorical names (line 2)\n",
    "cols  = preprocessor.transformers_[0][2] .copy()   #t_[0] is num trans,[2] item is col names, copy() so we don't change the underlying data structure!\n",
    "cols += preprocessor.transformers_[1][1]['onehot']\\\n",
    "                     .get_feature_names(cat_features).tolist()  #t_[1] is cat trans,[1] is steps inside cat trans, get onehot, then pull the feature names\n",
    "\n",
    "pd.DataFrame(preprocessor.transform(fannie_mae), columns=cols).head(5)"
   ]
  },
  {
   "cell_type": "code",
   "execution_count": 18,
   "metadata": {},
   "outputs": [
    {
     "data": {
      "text/html": [
       "<div>\n",
       "<style scoped>\n",
       "    .dataframe tbody tr th:only-of-type {\n",
       "        vertical-align: middle;\n",
       "    }\n",
       "\n",
       "    .dataframe tbody tr th {\n",
       "        vertical-align: top;\n",
       "    }\n",
       "\n",
       "    .dataframe thead th {\n",
       "        text-align: right;\n",
       "    }\n",
       "</style>\n",
       "<table border=\"1\" class=\"dataframe\">\n",
       "  <thead>\n",
       "    <tr style=\"text-align: right;\">\n",
       "      <th></th>\n",
       "      <th>0</th>\n",
       "      <th>1</th>\n",
       "      <th>2</th>\n",
       "      <th>3</th>\n",
       "      <th>4</th>\n",
       "      <th>5</th>\n",
       "      <th>6</th>\n",
       "      <th>7</th>\n",
       "      <th>8</th>\n",
       "      <th>9</th>\n",
       "      <th>10</th>\n",
       "      <th>11</th>\n",
       "    </tr>\n",
       "  </thead>\n",
       "  <tbody>\n",
       "    <tr>\n",
       "      <th>0</th>\n",
       "      <td>-1.443151</td>\n",
       "      <td>0.642953</td>\n",
       "      <td>-0.990988</td>\n",
       "      <td>0.0</td>\n",
       "      <td>0.0</td>\n",
       "      <td>0.0</td>\n",
       "      <td>0.0</td>\n",
       "      <td>1.0</td>\n",
       "      <td>0.0</td>\n",
       "      <td>1.0</td>\n",
       "      <td>0.0</td>\n",
       "      <td>0.0</td>\n",
       "    </tr>\n",
       "    <tr>\n",
       "      <th>1</th>\n",
       "      <td>0.101791</td>\n",
       "      <td>0.642953</td>\n",
       "      <td>-0.639975</td>\n",
       "      <td>0.0</td>\n",
       "      <td>0.0</td>\n",
       "      <td>0.0</td>\n",
       "      <td>0.0</td>\n",
       "      <td>1.0</td>\n",
       "      <td>0.0</td>\n",
       "      <td>1.0</td>\n",
       "      <td>0.0</td>\n",
       "      <td>0.0</td>\n",
       "    </tr>\n",
       "    <tr>\n",
       "      <th>2</th>\n",
       "      <td>-0.615504</td>\n",
       "      <td>-1.543334</td>\n",
       "      <td>-0.201208</td>\n",
       "      <td>0.0</td>\n",
       "      <td>0.0</td>\n",
       "      <td>0.0</td>\n",
       "      <td>0.0</td>\n",
       "      <td>1.0</td>\n",
       "      <td>1.0</td>\n",
       "      <td>0.0</td>\n",
       "      <td>0.0</td>\n",
       "      <td>0.0</td>\n",
       "    </tr>\n",
       "    <tr>\n",
       "      <th>3</th>\n",
       "      <td>-1.121288</td>\n",
       "      <td>-1.543334</td>\n",
       "      <td>-1.429754</td>\n",
       "      <td>0.0</td>\n",
       "      <td>0.0</td>\n",
       "      <td>0.0</td>\n",
       "      <td>0.0</td>\n",
       "      <td>1.0</td>\n",
       "      <td>1.0</td>\n",
       "      <td>0.0</td>\n",
       "      <td>0.0</td>\n",
       "      <td>0.0</td>\n",
       "    </tr>\n",
       "    <tr>\n",
       "      <th>4</th>\n",
       "      <td>-1.277621</td>\n",
       "      <td>-1.543334</td>\n",
       "      <td>-2.044026</td>\n",
       "      <td>0.0</td>\n",
       "      <td>0.0</td>\n",
       "      <td>0.0</td>\n",
       "      <td>0.0</td>\n",
       "      <td>1.0</td>\n",
       "      <td>1.0</td>\n",
       "      <td>0.0</td>\n",
       "      <td>0.0</td>\n",
       "      <td>0.0</td>\n",
       "    </tr>\n",
       "  </tbody>\n",
       "</table>\n",
       "</div>"
      ],
      "text/plain": [
       "         0         1         2    3    4    5    6    7    8    9    10   11\n",
       "0 -1.443151  0.642953 -0.990988  0.0  0.0  0.0  0.0  1.0  0.0  1.0  0.0  0.0\n",
       "1  0.101791  0.642953 -0.639975  0.0  0.0  0.0  0.0  1.0  0.0  1.0  0.0  0.0\n",
       "2 -0.615504 -1.543334 -0.201208  0.0  0.0  0.0  0.0  1.0  1.0  0.0  0.0  0.0\n",
       "3 -1.121288 -1.543334 -1.429754  0.0  0.0  0.0  0.0  1.0  1.0  0.0  0.0  0.0\n",
       "4 -1.277621 -1.543334 -2.044026  0.0  0.0  0.0  0.0  1.0  1.0  0.0  0.0  0.0"
      ]
     },
     "execution_count": 18,
     "metadata": {},
     "output_type": "execute_result"
    }
   ],
   "source": [
    "preprocessor.fit(fannie_mae)\n",
    "pd.DataFrame(preprocessor.transform(fannie_mae)).head(5) #can see that it itself is a column transformer\n",
    "                            #can give it the whole dataset, unlike below with num_transformer"
   ]
  },
  {
   "cell_type": "code",
   "execution_count": 10,
   "metadata": {},
   "outputs": [
    {
     "data": {
      "text/plain": [
       "array([[-1.4431508 ,  0.64295267, -0.99098751],\n",
       "       [ 0.10179076,  0.64295267, -0.63997455],\n",
       "       [-0.61550354, -1.5433343 , -0.20120835],\n",
       "       ...,\n",
       "       [ 0.46043791,  0.64295267, -1.16649399],\n",
       "       [-0.88218988,  0.64295267, -1.25424723],\n",
       "       [-0.44997408,  0.64295267,  0.23755786]])"
      ]
     },
     "execution_count": 10,
     "metadata": {},
     "output_type": "execute_result"
    }
   ],
   "source": [
    "num_transformer.fit(fannie_mae[num_features])\n",
    "num_transformer.transform(fannie_mae[num_features]) #shows an array with no missing values for the three variables "
   ]
  },
  {
   "cell_type": "markdown",
   "metadata": {},
   "source": [
    "### This is ready to include in a pipeline with an estimator¶\n",
    "It's as easy as: make_pipeline(preprocessor, model_of_your_choice()).\n",
    "\n",
    "For example:"
   ]
  },
  {
   "cell_type": "code",
   "execution_count": 14,
   "metadata": {},
   "outputs": [
    {
     "data": {
      "text/plain": [
       "Pipeline(memory=None,\n",
       "         steps=[('columntransformer',\n",
       "                 ColumnTransformer(n_jobs=None, remainder='drop',\n",
       "                                   sparse_threshold=0.3,\n",
       "                                   transformer_weights=None,\n",
       "                                   transformers=[('num',\n",
       "                                                  Pipeline(memory=None,\n",
       "                                                           steps=[('imputer',\n",
       "                                                                   SimpleImputer(add_indicator=False,\n",
       "                                                                                 copy=True,\n",
       "                                                                                 fill_value=None,\n",
       "                                                                                 missing_values=nan,\n",
       "                                                                                 strategy='median',\n",
       "                                                                                 verbose=0)),\n",
       "                                                                  ('scaler',\n",
       "                                                                   StandardScaler(copy=True,\n",
       "                                                                                  with...\n",
       "                                                                                 verbose=0)),\n",
       "                                                                  ('onehot',\n",
       "                                                                   OneHotEncoder(categorical_features=None,\n",
       "                                                                                 categories=None,\n",
       "                                                                                 drop=None,\n",
       "                                                                                 dtype=<class 'numpy.float64'>,\n",
       "                                                                                 handle_unknown='ignore',\n",
       "                                                                                 n_values=None,\n",
       "                                                                                 sparse=False))],\n",
       "                                                           verbose=False),\n",
       "                                                  ['Property_type',\n",
       "                                                   'Loan_purpose'])],\n",
       "                                   verbose=False)),\n",
       "                ('linearregression',\n",
       "                 LinearRegression(copy_X=True, fit_intercept=True, n_jobs=None,\n",
       "                                  normalize=False))],\n",
       "         verbose=False)"
      ]
     },
     "execution_count": 14,
     "metadata": {},
     "output_type": "execute_result"
    }
   ],
   "source": [
    "# combine preprocessor with estimator\n",
    "pipe_reg = make_pipeline(preprocessor,\n",
    "                        LinearRegression())\n",
    "pipe_reg # look at it"
   ]
  },
  {
   "cell_type": "markdown",
   "metadata": {},
   "source": [
    "# Optimizing the overly simply model above¶\n",
    "Three reasons for doing this:\n",
    "\n",
    "- specifying param_grid is just a little different because the pipeline has steps with nested steps\n",
    "- one more example of optimizing a model\n",
    "- you'll see how I'll evaluate your final model\n",
    "\n",
    "Optimizing this pipeline is just like the pseudo code above: set up the parameter grid, then the grid to search, then fit and save the optimized model to an object."
   ]
  },
  {
   "cell_type": "code",
   "execution_count": 21,
   "metadata": {},
   "outputs": [
    {
     "data": {
      "text/plain": [
       "{'columntransformer__num__imputer__strategy': ['mean',\n",
       "  'median',\n",
       "  'most_frequent']}"
      ]
     },
     "execution_count": 21,
     "metadata": {},
     "output_type": "execute_result"
    }
   ],
   "source": [
    "\n",
    "param_grid = {\n",
    "             'columntransformer__num__imputer__strategy': ['mean', 'median','most_frequent']\n",
    "             }\n",
    "param_grid"
   ]
  },
  {
   "cell_type": "markdown",
   "metadata": {},
   "source": [
    "_Note how we accessed the column transformer, 2 underscores, then the num transformer inside it, 2 underscores, then the imputer step, then the strategy parameter. I wouldn't have known to do this without looking at the pipe_reg output above._"
   ]
  },
  {
   "cell_type": "code",
   "execution_count": 22,
   "metadata": {},
   "outputs": [],
   "source": [
    "grid_search = GridSearchCV(pipe_reg, param_grid, cv=5,scoring='r2') #searches over the values in param_grid\n",
    "grid_search.fit(fannie_mae, y)\n",
    "# grid_search.best_params_                   # examined this\n",
    "opt_model_reg = grid_search.best_estimator_  # save best model to an actual model object\n",
    "\n",
    "#****use this for part 2 of assignment****"
   ]
  },
  {
   "cell_type": "markdown",
   "metadata": {},
   "source": [
    "START ASIDE: you can quickly check the model object's R2 in-sample (all of your data) and on the CV folds"
   ]
  },
  {
   "cell_type": "code",
   "execution_count": 26,
   "metadata": {},
   "outputs": [
    {
     "name": "stdout",
     "output_type": "stream",
     "text": [
      "In sample:           0.204\n"
     ]
    }
   ],
   "source": [
    "# how does this do insample?\n",
    "print(\"In sample:          \",metrics.r2_score(y,\n",
    "                                              opt_model_reg.predict(fannie_mae)\n",
    "                                             ).round(3)) \n",
    "\n",
    "#prints r2 of 20... not very good"
   ]
  },
  {
   "cell_type": "code",
   "execution_count": 25,
   "metadata": {},
   "outputs": [
    {
     "name": "stderr",
     "output_type": "stream",
     "text": [
      "/Users/Kathrynjaco08/opt/anaconda3/lib/python3.7/site-packages/sklearn/model_selection/_split.py:1978: FutureWarning: The default value of cv will change from 3 to 5 in version 0.22. Specify it explicitly to silence this warning.\n",
      "  warnings.warn(CV_WARNING, FutureWarning)\n"
     ]
    },
    {
     "name": "stdout",
     "output_type": "stream",
     "text": [
      "Validation fold avg: -3.792\n"
     ]
    }
   ],
   "source": [
    "# lol this model generates negative R2 in the CV folds\n",
    "print(\"Validation fold avg:\",cross_validate(opt_model_reg,\n",
    "                                            fannie_mae, y,\n",
    "                                            scoring=['neg_mean_squared_error','r2']\n",
    "                                           )\n",
    "                                           ['test_r2'].mean().round(3))"
   ]
  },
  {
   "cell_type": "markdown",
   "metadata": {},
   "source": [
    "### Exercise 1: Add 5 new continuous variables to your pipeline and see how R2 changes"
   ]
  },
  {
   "cell_type": "code",
   "execution_count": 35,
   "metadata": {},
   "outputs": [
    {
     "data": {
      "text/plain": [
       "Index(['Loan_Identifier', 'Origination_Channel', 'Seller_Name', 'Original_UPB',\n",
       "       'Original_Loan_Term', 'Original_LTV_(OLTV)',\n",
       "       'Original_Combined_LTV_(CLTV)', 'Number_of_Borrowers',\n",
       "       'Original_Debt_to_Income_Ratio', 'Borrower_Credit_Score_at_Origination',\n",
       "       'Loan_purpose', 'Property_type', 'Number_of_units', 'Occupancy_type',\n",
       "       'Property_state', 'Zip_code_short',\n",
       "       'Primary_mortgage_insurance_percent', 'Product_type',\n",
       "       'Co-borrower_credit_score_at_origination', 'Mortgage_Insurance_type',\n",
       "       'Origination_Date', 'First_payment_date',\n",
       "       'First_time_home_buyer_indicator', 'UNRATE', 'CPIAUCSL', 'Qdate',\n",
       "       'rGDP', 'TCMR', 'POILWTIUSDM', 'TTLCONS', 'DEXUSEU', 'BOPGSTB',\n",
       "       'GOLDAMGBD228NLBM', 'CSUSHPISA', 'MSPUS'],\n",
       "      dtype='object')"
      ]
     },
     "execution_count": 35,
     "metadata": {},
     "output_type": "execute_result"
    }
   ],
   "source": [
    "fannie_mae.columns\n"
   ]
  },
  {
   "cell_type": "code",
   "execution_count": 32,
   "metadata": {},
   "outputs": [
    {
     "data": {
      "text/plain": [
       "0.648650615470285"
      ]
     },
     "execution_count": 32,
     "metadata": {},
     "output_type": "execute_result"
    }
   ],
   "source": [
    "#Add new features to the list \n",
    "num_features = ['Original_UPB', 'Original_Loan_Term','Original_Debt_to_Income_Ratio',\n",
    "                'UNRATE','rGDP','Original_LTV_(OLTV)','TCMR','CPIAUCSL']\n",
    "\n",
    "#reload the preprocessor (num_features is the new now)\n",
    "preprocessor = ColumnTransformer(\n",
    "    transformers=[\n",
    "        ('num', num_transformer, num_features), #giving it the transformers that you want it to run\n",
    "        ('cat', cat_transformer, cat_features)\n",
    "    ])\n",
    "\n",
    "#reload the pipeline\n",
    "pipe_reg = make_pipeline(preprocessor, LinearRegression())\n",
    "\n",
    "#check OOS with Cvs\n",
    "cross_validate(pipe_reg,fannie_mae,y,scoring='r2')['test_score'].mean()"
   ]
  },
  {
   "cell_type": "markdown",
   "metadata": {},
   "source": [
    "### Exercise 2: Add 2 new categorical variables (on top of the new 5 continuous vars) and see how R2 changes "
   ]
  },
  {
   "cell_type": "code",
   "execution_count": 36,
   "metadata": {},
   "outputs": [
    {
     "name": "stderr",
     "output_type": "stream",
     "text": [
      "/Users/Kathrynjaco08/opt/anaconda3/lib/python3.7/site-packages/sklearn/model_selection/_split.py:1978: FutureWarning: The default value of cv will change from 3 to 5 in version 0.22. Specify it explicitly to silence this warning.\n",
      "  warnings.warn(CV_WARNING, FutureWarning)\n"
     ]
    },
    {
     "data": {
      "text/plain": [
       "0.6467630572519719"
      ]
     },
     "execution_count": 36,
     "metadata": {},
     "output_type": "execute_result"
    }
   ],
   "source": [
    "cat_features = ['Property_type', 'Loan_purpose',\n",
    "               'Origination_Channel','Product_type'] #for hw, just finish putting in the correct stuff for cat_features and num_features\n",
    "\n",
    "#reload the preprocessor (num_features is the new now)\n",
    "preprocessor = ColumnTransformer(\n",
    "    transformers=[\n",
    "        ('num', num_transformer, num_features), #giving it the transformers that you want it to run\n",
    "        ('cat', cat_transformer, cat_features)\n",
    "    ])\n",
    "\n",
    "#reload the pipeline\n",
    "pipe_reg = make_pipeline(preprocessor, LinearRegression())\n",
    "\n",
    "#check OOS with Cvs\n",
    "cross_validate(pipe_reg,fannie_mae,y,scoring='r2')['test_score'].mean()"
   ]
  },
  {
   "cell_type": "markdown",
   "metadata": {},
   "source": [
    "# Exercise 3: Add as many variables as possible "
   ]
  },
  {
   "cell_type": "code",
   "execution_count": 39,
   "metadata": {},
   "outputs": [
    {
     "name": "stderr",
     "output_type": "stream",
     "text": [
      "/Users/Kathrynjaco08/opt/anaconda3/lib/python3.7/site-packages/sklearn/model_selection/_split.py:1978: FutureWarning: The default value of cv will change from 3 to 5 in version 0.22. Specify it explicitly to silence this warning.\n",
      "  warnings.warn(CV_WARNING, FutureWarning)\n"
     ]
    },
    {
     "data": {
      "text/plain": [
       "-1.6516292080301497e+20"
      ]
     },
     "execution_count": 39,
     "metadata": {},
     "output_type": "execute_result"
    }
   ],
   "source": [
    "ignore = ['Loan_Identifier','Origination_Date','QDate']\n",
    "\n",
    "dumb_nums = fannie_mae.select_dtypes('number').columns.to_list()\n",
    "dumb_cats = [ele for ele in fannie_mae.columns if ele not in dumb_nums]\n",
    "\n",
    "#remove\n",
    "dumb_nums = [ele for ele in dumb_nums if ele not in ignore]\n",
    "dumb_cats = [ele for ele in dumb_cats if ele not in ignore]\n",
    "\n",
    "#all_others\n",
    "cat_features = dumb_cats\n",
    "num_features = dumb_nums\n",
    "\n",
    "#reload the preprocessor\n",
    "preprocessor = ColumnTransformer(\n",
    "    transformers=[\n",
    "        ('num', num_transformer, num_features), #giving it the transformers that you want it to run\n",
    "        ('cat', cat_transformer, cat_features)\n",
    "    ])\n",
    "\n",
    "#reload the pipeline\n",
    "pipe_reg = make_pipeline(preprocessor, LinearRegression())\n",
    "\n",
    "#check OOS with Cvs\n",
    "cross_validate(pipe_reg,fannie_mae,y,scoring='r2')['test_score'].mean()"
   ]
  },
  {
   "cell_type": "code",
   "execution_count": 41,
   "metadata": {},
   "outputs": [
    {
     "name": "stderr",
     "output_type": "stream",
     "text": [
      "/Users/Kathrynjaco08/opt/anaconda3/lib/python3.7/site-packages/sklearn/model_selection/_split.py:1978: FutureWarning: The default value of cv will change from 3 to 5 in version 0.22. Specify it explicitly to silence this warning.\n",
      "  warnings.warn(CV_WARNING, FutureWarning)\n",
      "/Users/Kathrynjaco08/opt/anaconda3/lib/python3.7/site-packages/sklearn/model_selection/_split.py:1978: FutureWarning: The default value of cv will change from 3 to 5 in version 0.22. Specify it explicitly to silence this warning.\n",
      "  warnings.warn(CV_WARNING, FutureWarning)\n",
      "/Users/Kathrynjaco08/opt/anaconda3/lib/python3.7/site-packages/sklearn/model_selection/_split.py:1978: FutureWarning: The default value of cv will change from 3 to 5 in version 0.22. Specify it explicitly to silence this warning.\n",
      "  warnings.warn(CV_WARNING, FutureWarning)\n",
      "/Users/Kathrynjaco08/opt/anaconda3/lib/python3.7/site-packages/sklearn/model_selection/_split.py:1978: FutureWarning: The default value of cv will change from 3 to 5 in version 0.22. Specify it explicitly to silence this warning.\n",
      "  warnings.warn(CV_WARNING, FutureWarning)\n"
     ]
    },
    {
     "data": {
      "text/plain": [
       "0.4654804337184797"
      ]
     },
     "execution_count": 41,
     "metadata": {},
     "output_type": "execute_result"
    }
   ],
   "source": [
    "from sklearn.feature_selection import SelectFromModel\n",
    "from sklearn.linear_model import LassoCV\n",
    "\n",
    "#add a selection preprocessing step\n",
    "pipe_reg = make_pipeline(preprocessor,\n",
    "                        SelectFromModel(LassoCV()),     # turn this on/off to see diff                    \n",
    "                        LinearRegression())\n",
    "\n",
    "cross_validate(pipe_reg,fannie_mae,y,scoring='r2')['test_score'].mean()"
   ]
  },
  {
   "cell_type": "code",
   "execution_count": null,
   "metadata": {},
   "outputs": [],
   "source": []
  }
 ],
 "metadata": {
  "kernelspec": {
   "display_name": "Python 3",
   "language": "python",
   "name": "python3"
  },
  "language_info": {
   "codemirror_mode": {
    "name": "ipython",
    "version": 3
   },
   "file_extension": ".py",
   "mimetype": "text/x-python",
   "name": "python",
   "nbconvert_exporter": "python",
   "pygments_lexer": "ipython3",
   "version": "3.7.4"
  }
 },
 "nbformat": 4,
 "nbformat_minor": 2
}

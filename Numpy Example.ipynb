{
 "cells": [
  {
   "cell_type": "code",
   "execution_count": 1,
   "metadata": {},
   "outputs": [],
   "source": [
    "import numpy as np\n"
   ]
  },
  {
   "cell_type": "code",
   "execution_count": 19,
   "metadata": {},
   "outputs": [
    {
     "name": "stdout",
     "output_type": "stream",
     "text": [
      "array a:\n",
      "[[0 1]\n",
      " [2 3]]\n",
      "\n",
      "Maximum value of a:\n",
      "3\n",
      "\n",
      "Minimum value of a:\n",
      "0\n",
      "\n",
      "Return an array of the max in each column of a:\n",
      "[2 3]\n",
      "\n",
      "Return an array of the min in each row of a:\n",
      "[0 2]\n",
      "\n",
      "Return a, sorted within each row:\n",
      "[[0 1]\n",
      " [2 3]]\n",
      "\n",
      "Return a, sorted within each column:\n",
      "[[0 1]\n",
      " [2 3]]\n"
     ]
    }
   ],
   "source": []
  },
  {
   "cell_type": "code",
   "execution_count": 4,
   "metadata": {},
   "outputs": [
    {
     "name": "stdout",
     "output_type": "stream",
     "text": [
      "array b:\n",
      "[[ 0  1]\n",
      " [ 2  3]\n",
      " [ 4  5]\n",
      " [ 6  7]\n",
      " [ 8  9]\n",
      " [10 11]\n",
      " [12 13]\n",
      " [14 15]\n",
      " [16 17]\n",
      " [18 19]\n",
      " [20 21]\n",
      " [22 23]\n",
      " [24 25]\n",
      " [26 27]\n",
      " [28 29]\n",
      " [30 31]\n",
      " [32 33]\n",
      " [34 35]\n",
      " [36 37]\n",
      " [38 39]]\n",
      "\n",
      "Print elements of the first column of b above that column's 80th percentile:\n",
      "\n",
      "\n",
      "Covariance matrix of the columns of b:\n",
      "\n"
     ]
    }
   ],
   "source": [
    "b = np.arange(40).reshape((20,2))\n",
    "print(\"array b:\")\n",
    "print(b)\n",
    "\n",
    "print(\"\\nPrint elements of the first column of b above that column's 80th percentile:\")\n",
    "print() \n",
    "\n",
    "print(\"\\nCovariance matrix of the columns of b:\")\n",
    "print()"
   ]
  },
  {
   "cell_type": "code",
   "execution_count": null,
   "metadata": {},
   "outputs": [],
   "source": []
  }
 ],
 "metadata": {
  "kernelspec": {
   "display_name": "Python 3",
   "language": "python",
   "name": "python3"
  },
  "language_info": {
   "codemirror_mode": {
    "name": "ipython",
    "version": 3
   },
   "file_extension": ".py",
   "mimetype": "text/x-python",
   "name": "python",
   "nbconvert_exporter": "python",
   "pygments_lexer": "ipython3",
   "version": "3.7.4"
  }
 },
 "nbformat": 4,
 "nbformat_minor": 2
}

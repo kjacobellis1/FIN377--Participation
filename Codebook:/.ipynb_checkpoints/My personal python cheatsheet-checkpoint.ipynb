{
 "cells": [
  {
   "cell_type": "markdown",
   "metadata": {},
   "source": [
    "# Warnings"
   ]
  },
  {
   "cell_type": "code",
   "execution_count": 1,
   "metadata": {},
   "outputs": [],
   "source": [
    "x = y is dangerous!"
   ]
  },
  {
   "cell_type": "code",
   "execution_count": 4,
   "metadata": {},
   "outputs": [
    {
     "name": "stdout",
     "output_type": "stream",
     "text": [
      "<class 'list'>\n",
      "[1, 2, 3]\n",
      "[1, 2, 3]\n"
     ]
    }
   ],
   "source": [
    "x = [1, 2, 3]\n",
    "print(type(x))\n",
    "y = x.copy() #### THIS SOLVED THE PROBLEM (changing y = x to y=x.COPY())\n",
    "print(y)\n",
    "x.append(4) \n",
    "print(y) # y was changed as well"
   ]
  },
  {
   "cell_type": "markdown",
   "metadata": {},
   "source": [
    "# Calling Functions\n",
    "\n",
    "Two ways:\n",
    "1. `object.function(arguments)`\n",
    "2. `function(object, arguments)`"
   ]
  },
  {
   "cell_type": "code",
   "execution_count": 17,
   "metadata": {},
   "outputs": [
    {
     "data": {
      "text/plain": [
       "[1, 2, 3, 4, 5, 5, 5, 5, 5, 5, 5, 5]"
      ]
     },
     "execution_count": 17,
     "metadata": {},
     "output_type": "execute_result"
    }
   ],
   "source": [
    "x.append(5)\n",
    "x\n",
    "x\n",
    "x \n",
    "x\n"
   ]
  },
  {
   "cell_type": "code",
   "execution_count": 16,
   "metadata": {},
   "outputs": [
    {
     "data": {
      "text/plain": [
       "11"
      ]
     },
     "execution_count": 16,
     "metadata": {},
     "output_type": "execute_result"
    }
   ],
   "source": [
    "len(x) ## length of the object "
   ]
  },
  {
   "cell_type": "code",
   "execution_count": 12,
   "metadata": {},
   "outputs": [
    {
     "data": {
      "text/plain": [
       "builtin_function_or_method"
      ]
     },
     "execution_count": 12,
     "metadata": {},
     "output_type": "execute_result"
    }
   ],
   "source": [
    "type(x.append)"
   ]
  },
  {
   "cell_type": "markdown",
   "metadata": {},
   "source": [
    "# Numpy "
   ]
  },
  {
   "cell_type": "markdown",
   "metadata": {},
   "source": [
    "- __np.array([user defined list, or lists of lists])__\n",
    "    - creates an array or matrix\n",
    "- __np.ones(how many) and np.ones([rows,cols])__\n",
    "    - same but all elements are 1\n",
    "- __np.zeros(how many) and np.zeros([rows,cols]__ \n",
    "    - same but all elements are 0\n",
    "- __np.arange__(start,end,stepsize)  \n",
    "    - creates array, note that the array will not include any elements >=end\n",
    "- __np.linspace__(from,to,# of elements)\n",
    "    - creates array covering the range specified\n",
    "- __np.eye(#)__\n",
    "    - creates an identity matrix of size #x#\n",
    "- __np.concatenate([x, y])__ \n",
    "    - combines arrays x and y\n",
    "- __np.nan__ is a NaN object (e.g. like a missing element in a data table)\n",
    "- __np.ceil(#), np.floor(#) \n",
    "    - if #=3.4, ceil will return 4, and floor will return 3.\n",
    "- __np.max(x), np.min(x), np.average(x), np.mediam(x)__ and many more statistical operations work as you would expect\n",
    "- __np.reshape(x,[rows,cols])__ works as it looks\n",
    "- __np.random.__<dist> can draw random numbers from many distributions\n",
    "    \n",
    "- use tab autocompletion to see all the options (type np.random. and then hit TAB)\n",
    "\n",
    "**YOU MUST NEVER EVER EVER EVER EVER DRAW RANDOM NUMBERS WITHOUT SETTING A SEED!!!**\n"
   ]
  },
  {
   "cell_type": "markdown",
   "metadata": {},
   "source": [
    "# Data Structures"
   ]
  },
  {
   "cell_type": "code",
   "execution_count": 18,
   "metadata": {},
   "outputs": [
    {
     "data": {
      "text/plain": [
       "[8, 5, 6, 3, 7, 5, 3, 4, 13, 14, 7, [6], [8, 9]]"
      ]
     },
     "execution_count": 18,
     "metadata": {},
     "output_type": "execute_result"
    }
   ],
   "source": [
    "L=[8, 5, 6, 3, 7]\n",
    "L.extend([5])    # extend concatenates\n",
    "L.extend([3,4])  # concatenates work the same with more elemens\n",
    "L = L + [13,14]  # + concatenates\n",
    "L.append(7)      # append adds its entire argument to the list as a new element. \n",
    "L.append([6])    # 7 is an int, so it goes in as an int, but [6] is a *list*, so append puts a list as the element\n",
    "L.append([8,9])  # see, the last element is [8,9]\n",
    "L"
   ]
  },
  {
   "cell_type": "markdown",
   "metadata": {},
   "source": [
    "# Very Important tips and Stuff\n",
    "- if you want to execute a function that relies on randomness... **SET A SEED!!!**"
   ]
  },
  {
   "cell_type": "markdown",
   "metadata": {},
   "source": [
    "##### AN ASIDE ON RESHAPING in pandas "
   ]
  },
  {
   "cell_type": "code",
   "execution_count": 3,
   "metadata": {},
   "outputs": [
    {
     "name": "stdout",
     "output_type": "stream",
     "text": [
      "Original:\n",
      "            Sales\n",
      "Firm Year       \n",
      "Ford 2000     10\n",
      "     2001     12\n",
      "     2002     14\n",
      "     2003     16\n",
      "GM   2000     11\n",
      "     2001     13\n",
      "     2002     13\n",
      "     2003     15\n",
      "\n",
      "\n",
      "Unstack (make it shorter+wider)\n",
      "on level 0/Firm:\n",
      "      Sales    \n",
      "Firm  Ford  GM\n",
      "Year          \n",
      "2000    10  11\n",
      "2001    12  13\n",
      "2002    14  13\n",
      "2003    16  15\n",
      "\n",
      "\n",
      "Stack it back (make it tall):\n",
      "            Sales\n",
      "Year Firm       \n",
      "2000 Ford     10\n",
      "     GM       11\n",
      "2001 Ford     12\n",
      "     GM       13\n",
      "2002 Ford     14\n",
      "     GM       13\n",
      "2003 Ford     16\n",
      "     GM       15\n",
      "\n",
      "\n",
      "Stack it back and reorder \n",
      "index as before (firm-year):\n",
      "            Sales\n",
      "Firm Year       \n",
      "Ford 2000     10\n",
      "     2001     12\n",
      "     2002     14\n",
      "     2003     16\n",
      "GM   2000     11\n",
      "     2001     13\n",
      "     2002     13\n",
      "     2003     15\n",
      "\n",
      "\n",
      "Unstack level 1/Year:\n",
      "      Sales               \n",
      "Year  2000 2001 2002 2003\n",
      "Firm                     \n",
      "Ford    10   12   14   16\n",
      "GM      11   13   13   15\n"
     ]
    }
   ],
   "source": [
    "\n",
    "import pandas as pd\n",
    "df = pd.Series({   ('Ford',2000):10,\n",
    "                   ('Ford',2001):12,\n",
    "                   ('Ford',2002):14,\n",
    "                   ('Ford',2003):16,\n",
    "                   ('GM',2000):11,\n",
    "                   ('GM',2001):13,\n",
    "                   ('GM',2002):13,\n",
    "                   ('GM',2003):15}).to_frame().rename(columns={0:'Sales'}).rename_axis(['Firm','Year'])\n",
    "print(\"Original:\\n\",df)\n",
    "wide = df.unstack(level=0)\n",
    "print(\"\\n\\nUnstack (make it shorter+wider)\\non level 0/Firm:\\n\",wide) # move index level 0 (firm name) to column\n",
    "tall = wide.stack()\n",
    "print(\"\\n\\nStack it back (make it tall):\\n\",tall) # move index level 0 (firm name) to column\n",
    "print(\"\\n\\nStack it back and reorder \\nindex as before (firm-year):\\n\",tall.swaplevel().sort_index())\n",
    "\n",
    "print(\"\\n\\nUnstack level 1/Year:\\n\",df.unstack(level=1)) # move index level 0 (firm name) to column"
   ]
  },
  {
   "cell_type": "code",
   "execution_count": null,
   "metadata": {},
   "outputs": [],
   "source": []
  }
 ],
 "metadata": {
  "kernelspec": {
   "display_name": "Python 3",
   "language": "python",
   "name": "python3"
  },
  "language_info": {
   "codemirror_mode": {
    "name": "ipython",
    "version": 3
   },
   "file_extension": ".py",
   "mimetype": "text/x-python",
   "name": "python",
   "nbconvert_exporter": "python",
   "pygments_lexer": "ipython3",
   "version": "3.7.4"
  }
 },
 "nbformat": 4,
 "nbformat_minor": 2
}

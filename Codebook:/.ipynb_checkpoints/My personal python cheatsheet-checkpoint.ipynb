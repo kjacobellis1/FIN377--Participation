{
 "cells": [
  {
   "cell_type": "markdown",
   "metadata": {},
   "source": [
    "# Warnings"
   ]
  },
  {
   "cell_type": "code",
   "execution_count": 1,
   "metadata": {},
   "outputs": [],
   "source": [
    "x = y is dangerous!"
   ]
  },
  {
   "cell_type": "code",
   "execution_count": 4,
   "metadata": {},
   "outputs": [
    {
     "name": "stdout",
     "output_type": "stream",
     "text": [
      "<class 'list'>\n",
      "[1, 2, 3]\n",
      "[1, 2, 3]\n"
     ]
    }
   ],
   "source": [
    "x = [1, 2, 3]\n",
    "print(type(x))\n",
    "y = x.copy() #### THIS SOLVED THE PROBLEM (changing y = x to y=x.COPY())\n",
    "print(y)\n",
    "x.append(4) \n",
    "print(y) # y was changed as well"
   ]
  },
  {
   "cell_type": "markdown",
   "metadata": {},
   "source": [
    "# Calling Functions\n",
    "\n",
    "Two ways:\n",
    "1. `object.function(arguments)`\n",
    "2. `function(object, arguments)`"
   ]
  },
  {
   "cell_type": "code",
   "execution_count": 17,
   "metadata": {},
   "outputs": [
    {
     "data": {
      "text/plain": [
       "[1, 2, 3, 4, 5, 5, 5, 5, 5, 5, 5, 5]"
      ]
     },
     "execution_count": 17,
     "metadata": {},
     "output_type": "execute_result"
    }
   ],
   "source": [
    "x.append(5)\n",
    "x\n",
    "x\n",
    "x \n",
    "x\n"
   ]
  },
  {
   "cell_type": "code",
   "execution_count": 16,
   "metadata": {},
   "outputs": [
    {
     "data": {
      "text/plain": [
       "11"
      ]
     },
     "execution_count": 16,
     "metadata": {},
     "output_type": "execute_result"
    }
   ],
   "source": [
    "len(x) ## length of the object "
   ]
  },
  {
   "cell_type": "code",
   "execution_count": 12,
   "metadata": {},
   "outputs": [
    {
     "data": {
      "text/plain": [
       "builtin_function_or_method"
      ]
     },
     "execution_count": 12,
     "metadata": {},
     "output_type": "execute_result"
    }
   ],
   "source": [
    "type(x.append)"
   ]
  },
  {
   "cell_type": "markdown",
   "metadata": {},
   "source": [
    "# Numpy "
   ]
  },
  {
   "cell_type": "markdown",
   "metadata": {},
   "source": [
    "- np.array([user defined list, or lists of lists]) \n",
    "    - creates an array or matrix\n",
    "- np.ones(how many) and np.ones([rows,cols])\n",
    "    - same but all elements are 1\n",
    "- np.zeros(how many) and np.zeros([rows,cols]), \n",
    "    - same but all elements are 0\n",
    "- np.arange(start,end,stepsize) , creates array, note that the array will not include any elements >=end\n",
    "- np.linspace(from,to,# of elements), creates array covering the range specified\n",
    "- np.eye(#) creates an identity matrix of size #x#\n",
    "- np.concatenate([x, y]) combines arrays x and y\n",
    "- np.nan is a NaN object (e.g. like a missing element in a data table)\n",
    "- np.ceil(#), np.floor(#) if #=3.4, ceil will return 4, and floor will return 3.\n",
    "- np.max(x), np.min(x), np.average(x), np.mediam(x) and many more statistical operations work as you would expect\n",
    "- np.reshape(x,[rows,cols]) works as it looks\n",
    "- np.random.<dist> can draw random numbers from many distributions\n",
    "- use tab autocompletion to see all the options (type np.random. and then hit TAB)\n",
    "\n",
    "**YOU MUST NEVER EVER EVER EVER EVER DRAW RANDOM NUMBERS WITHOUT SETTING A SEED!!!**\n"
   ]
  },
  {
   "cell_type": "markdown",
   "metadata": {},
   "source": [
    "# Data Structures"
   ]
  },
  {
   "cell_type": "code",
   "execution_count": 18,
   "metadata": {},
   "outputs": [
    {
     "data": {
      "text/plain": [
       "[8, 5, 6, 3, 7, 5, 3, 4, 13, 14, 7, [6], [8, 9]]"
      ]
     },
     "execution_count": 18,
     "metadata": {},
     "output_type": "execute_result"
    }
   ],
   "source": [
    "L=[8, 5, 6, 3, 7]\n",
    "L.extend([5])    # extend concatenates\n",
    "L.extend([3,4])  # concatenates work the same with more elemens\n",
    "L = L + [13,14]  # + concatenates\n",
    "L.append(7)      # append adds its entire argument to the list as a new element. \n",
    "L.append([6])    # 7 is an int, so it goes in as an int, but [6] is a *list*, so append puts a list as the element\n",
    "L.append([8,9])  # see, the last element is [8,9]\n",
    "L"
   ]
  },
  {
   "cell_type": "markdown",
   "metadata": {},
   "source": [
    "# Very Important tips and Stuff\n",
    "- if you want to execute a function that relies on randomness... **SET A SEED!!!**"
   ]
  },
  {
   "cell_type": "code",
   "execution_count": null,
   "metadata": {},
   "outputs": [],
   "source": []
  }
 ],
 "metadata": {
  "kernelspec": {
   "display_name": "Python 3",
   "language": "python",
   "name": "python3"
  },
  "language_info": {
   "codemirror_mode": {
    "name": "ipython",
    "version": 3
   },
   "file_extension": ".py",
   "mimetype": "text/x-python",
   "name": "python",
   "nbconvert_exporter": "python",
   "pygments_lexer": "ipython3",
   "version": "3.7.4"
  }
 },
 "nbformat": 4,
 "nbformat_minor": 2
}
